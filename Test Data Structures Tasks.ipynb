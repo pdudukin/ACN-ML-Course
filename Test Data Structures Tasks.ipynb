{
 "cells": [
  {
   "cell_type": "markdown",
   "metadata": {
    "nbpresent": {
     "id": "d7c14948-ae00-42c1-af04-4199336e82b7"
    }
   },
   "source": [
    "# Тестовое задание #1 (22.11.2017)"
   ]
  },
  {
   "cell_type": "markdown",
   "metadata": {
    "nbpresent": {
     "id": "53877c47-3079-44d4-8177-47e1d46599c4"
    }
   },
   "source": [
    "★☆☆ - Простое задание (максимум 1 балл / 3)\n",
    "\n",
    "★★☆ - Задание средней сложности (максимум 2 балла / 3)\n",
    "\n",
    "★★★ - Сложное задание (максимум 3 балла / 3)"
   ]
  },
  {
   "cell_type": "code",
   "execution_count": 139,
   "metadata": {
    "collapsed": true,
    "nbpresent": {
     "id": "de41042d-d56a-4dc3-99b0-f2f2f3362b16"
    },
    "scrolled": true
   },
   "outputs": [
    {
     "ename": "SyntaxError",
     "evalue": "invalid syntax (<ipython-input-139-d6aa99777c83>, line 1)",
     "output_type": "error",
     "traceback": [
      "\u001b[1;36m  File \u001b[1;32m\"<ipython-input-139-d6aa99777c83>\"\u001b[1;36m, line \u001b[1;32m1\u001b[0m\n\u001b[1;33m    ODO: подготовить два файла: с вопросами и ответами\u001b[0m\n\u001b[1;37m       ^\u001b[0m\n\u001b[1;31mSyntaxError\u001b[0m\u001b[1;31m:\u001b[0m invalid syntax\n"
     ]
    }
   ],
   "source": [
    "TODO: подготовить два файла: с вопросами и ответами\n",
    "TODO: быть готовым к тому, что юзер не решит задание. Сабмитить какое-то левое число или NAN"
   ]
  },
  {
   "cell_type": "markdown",
   "metadata": {
    "nbpresent": {
     "id": "c657861e-6994-48d7-a9f8-03143cab32b2"
    }
   },
   "source": [
    "# Data structures"
   ]
  },
  {
   "cell_type": "markdown",
   "metadata": {
    "nbpresent": {
     "id": "966e63c1-04a4-4f1d-9811-49832319de4b"
    }
   },
   "source": [
    "Выполните ячейку ниже"
   ]
  },
  {
   "cell_type": "code",
   "execution_count": 1,
   "metadata": {
    "nbpresent": {
     "id": "89d03a7c-6fb5-4203-9529-0c1b37b1f85e"
    },
    "scrolled": true
   },
   "outputs": [],
   "source": [
    "list_of_answers = []\n",
    "\n",
    "def WriteAnswer(ans):\n",
    "    return list_of_answers.append(ans)"
   ]
  },
  {
   "cell_type": "markdown",
   "metadata": {
    "nbpresent": {
     "id": "04414b27-9cf0-47f2-a322-72db56f5dbad"
    }
   },
   "source": [
    "## Prerequisites"
   ]
  },
  {
   "cell_type": "markdown",
   "metadata": {
    "nbpresent": {
     "id": "4879437c-5486-4934-9882-1dfe8c3d22ee"
    }
   },
   "source": [
    "Импортируйте модуль numpy"
   ]
  },
  {
   "cell_type": "code",
   "execution_count": 2,
   "metadata": {
    "nbpresent": {
     "id": "ce7031fb-91c1-4ef5-acf3-21a8ae0761fc"
    },
    "scrolled": true
   },
   "outputs": [],
   "source": [
    "# your code\n",
    "import numpy as np"
   ]
  },
  {
   "cell_type": "markdown",
   "metadata": {
    "nbpresent": {
     "id": "9ae2cd6f-d923-464b-bebf-b559870f39ed"
    }
   },
   "source": [
    "Заполните свое имя в виде текстовой строки"
   ]
  },
  {
   "cell_type": "code",
   "execution_count": 3,
   "metadata": {
    "nbpresent": {
     "id": "e8bcde2b-c9c5-41c4-80a5-33b6b97448cf"
    },
    "scrolled": true
   },
   "outputs": [],
   "source": [
    "author = 'Pavel_Dudukin' # write your name"
   ]
  },
  {
   "cell_type": "markdown",
   "metadata": {
    "nbpresent": {
     "id": "3ca0a056-f874-458e-ab7e-f3d81ac1b3e8"
    }
   },
   "source": [
    "## Task 1 ★☆☆"
   ]
  },
  {
   "cell_type": "markdown",
   "metadata": {
    "nbpresent": {
     "id": "6778fea4-1869-401e-aa4a-66040b440df3"
    }
   },
   "source": [
    "Создать список и из чисел 1,4,7,9,0,4,2,6,9,0,4,2,6,7,2,3,5,2,4,0 и найти сумму элементов"
   ]
  },
  {
   "cell_type": "code",
   "execution_count": 4,
   "metadata": {
    "collapsed": true,
    "nbpresent": {
     "id": "07f8bd94-44f1-4d7c-802a-5cd458740353"
    },
    "scrolled": true
   },
   "outputs": [],
   "source": [
    "# your code\n",
    "ans_task_1 = sum([1,4,7,9,0,4,2,6,9,0,4,2,6,7,2,3,5,2,4,0])"
   ]
  },
  {
   "cell_type": "markdown",
   "metadata": {
    "nbpresent": {
     "id": "a59c1fd0-8e9b-4270-afcf-33531bab51a1"
    }
   },
   "source": [
    "Запишите ответ в переменную и выполните сабмит ответа"
   ]
  },
  {
   "cell_type": "code",
   "execution_count": 5,
   "metadata": {
    "nbpresent": {
     "id": "903b40a2-e6e8-4813-842f-957bcaf9468f"
    },
    "scrolled": true
   },
   "outputs": [],
   "source": [
    "# your code\n",
    "WriteAnswer(ans_task_1)"
   ]
  },
  {
   "cell_type": "markdown",
   "metadata": {
    "nbpresent": {
     "id": "197f76e8-d6f5-42e8-b29a-6c41097fcf35"
    }
   },
   "source": [
    "## Task 2 ★★☆"
   ]
  },
  {
   "cell_type": "markdown",
   "metadata": {
    "nbpresent": {
     "id": "6ec16907-1491-413f-a763-78a15b296636"
    }
   },
   "source": [
    "Используя список из предыдущего задания, найти сумму индексов ненулевых значений в списке"
   ]
  },
  {
   "cell_type": "code",
   "execution_count": 6,
   "metadata": {
    "nbpresent": {
     "id": "d94ff6e8-5aa9-454a-b862-4d9e6c64e383"
    },
    "scrolled": true
   },
   "outputs": [],
   "source": [
    "# your code\n",
    "lst = [1,4,7,9,0,4,2,6,9,0,4,2,6,7,2,3,5,2,4,0]\n",
    "ind = 0\n",
    "res = []\n",
    "\n",
    "for elt in lst:\n",
    "    if elt != 0:\n",
    "        res.append(ind)\n",
    "    ind+=1\n",
    "\n",
    "ans_task_2 = sum(res)"
   ]
  },
  {
   "cell_type": "markdown",
   "metadata": {
    "nbpresent": {
     "id": "27a13cee-a92d-4819-8e21-18596781caac"
    }
   },
   "source": [
    "Запишите ответ в переменную и выполните сабмит ответа"
   ]
  },
  {
   "cell_type": "code",
   "execution_count": 7,
   "metadata": {
    "nbpresent": {
     "id": "8ecc96db-dac0-475c-b785-d070846589e2"
    },
    "scrolled": true
   },
   "outputs": [],
   "source": [
    "WriteAnswer(ans_task_2)"
   ]
  },
  {
   "cell_type": "markdown",
   "metadata": {
    "nbpresent": {
     "id": "a3be4bc6-d214-451c-9c2e-c2d5e59600a1"
    }
   },
   "source": [
    "## Task 2* ★★★"
   ]
  },
  {
   "cell_type": "markdown",
   "metadata": {
    "nbpresent": {
     "id": "131e9912-93f6-494f-8b1e-80fb1aeecd7a"
    }
   },
   "source": [
    "Выполнить Task 2 в одну строчку"
   ]
  },
  {
   "cell_type": "code",
   "execution_count": 8,
   "metadata": {
    "nbpresent": {
     "id": "681fc9e0-d88d-4f9a-9fe6-05e5ac276d3a"
    },
    "scrolled": true
   },
   "outputs": [],
   "source": [
    "ans_task_2_ast = sum([i for i,v in enumerate(lst) if i not in np.nonzero(lst)[0]])"
   ]
  },
  {
   "cell_type": "markdown",
   "metadata": {
    "nbpresent": {
     "id": "4efc3913-0765-4976-80a4-d9eff884842b"
    }
   },
   "source": [
    "Запишите ответ в переменную и выполните сабмит ответа"
   ]
  },
  {
   "cell_type": "code",
   "execution_count": 9,
   "metadata": {
    "nbpresent": {
     "id": "68951ddc-0cd0-4c09-826e-f81d42334c28"
    },
    "scrolled": true
   },
   "outputs": [],
   "source": [
    "# your code\n",
    "WriteAnswer(ans_task_2_ast)"
   ]
  },
  {
   "cell_type": "markdown",
   "metadata": {
    "nbpresent": {
     "id": "3c486ad8-220c-4646-b924-216e5a0668bd"
    }
   },
   "source": [
    "## Task 3 ★★☆"
   ]
  },
  {
   "cell_type": "markdown",
   "metadata": {
    "nbpresent": {
     "id": "3ffce024-d6c1-4603-bda8-79fb8b26401e"
    }
   },
   "source": [
    "Создайте словарь из элементов списка, созданного в Task 1, и найдите cумму элементов, повторяющихся 4 раза."
   ]
  },
  {
   "cell_type": "code",
   "execution_count": 10,
   "metadata": {
    "nbpresent": {
     "id": "a43c865c-9a7c-4e8a-8f71-e05ba073a42a"
    },
    "scrolled": true
   },
   "outputs": [],
   "source": [
    "# your code\n",
    "d = {}\n",
    "ans_task_3 = 0\n",
    "\n",
    "for elt in lst:\n",
    "    if elt in d:\n",
    "        d[elt]+=1\n",
    "    else:\n",
    "        d.update({elt:1})\n",
    "        \n",
    "    if d[elt]==4:\n",
    "        ans_task_3+=elt"
   ]
  },
  {
   "cell_type": "markdown",
   "metadata": {
    "nbpresent": {
     "id": "f509ef30-bc46-4e28-bc98-f3a042c2e0b9"
    }
   },
   "source": [
    "Запишите ответ в переменную и выполните сабмит ответа"
   ]
  },
  {
   "cell_type": "code",
   "execution_count": 11,
   "metadata": {
    "nbpresent": {
     "id": "f01d1ac9-9c00-4365-b339-b83a9747eb71"
    },
    "scrolled": true
   },
   "outputs": [],
   "source": [
    "# your code\n",
    "WriteAnswer(ans_task_3)"
   ]
  },
  {
   "cell_type": "markdown",
   "metadata": {
    "nbpresent": {
     "id": "9f23bd1a-d49b-42eb-a4ab-782ccbd55359"
    }
   },
   "source": [
    "## Task 3 * ★★★ "
   ]
  },
  {
   "cell_type": "markdown",
   "metadata": {
    "nbpresent": {
     "id": "d124b7c6-535a-4455-a95a-25f6df8db2dd"
    }
   },
   "source": [
    "Выполнить Task 3 в одну строку и найти сумму элементов, повторяющихся 2 раза.\n",
    "\n",
    "Hint: использовать метод Counter из модуля collections"
   ]
  },
  {
   "cell_type": "code",
   "execution_count": 12,
   "metadata": {
    "collapsed": true,
    "nbpresent": {
     "id": "d0f04c7c-d16a-4aec-bf1f-d48e14bea290"
    },
    "scrolled": true
   },
   "outputs": [],
   "source": [
    "from collections import Counter\n",
    "ans_task_3_ast = sum([k for k,v in zip(dict(Counter(lst)).keys(),dict(Counter(lst)).values()) if v==2])"
   ]
  },
  {
   "cell_type": "markdown",
   "metadata": {
    "nbpresent": {
     "id": "40237c96-0228-42ca-bd42-5a132f36dea5"
    }
   },
   "source": [
    "Запишите ответ в переменную и выполните сабмит ответа"
   ]
  },
  {
   "cell_type": "code",
   "execution_count": 13,
   "metadata": {
    "nbpresent": {
     "id": "4b79fbdf-71d7-49db-9d5b-1b1528011d5a"
    },
    "scrolled": true
   },
   "outputs": [],
   "source": [
    "# your code\n",
    "WriteAnswer(ans_task_3_ast)"
   ]
  },
  {
   "cell_type": "markdown",
   "metadata": {
    "nbpresent": {
     "id": "6e17509f-cb7c-429d-bed9-5cba64b07b1a"
    }
   },
   "source": [
    "## Submit"
   ]
  },
  {
   "cell_type": "code",
   "execution_count": 19,
   "metadata": {
    "nbpresent": {
     "id": "23d38148-0e2f-4acc-9eb7-c8956d47cf34"
    },
    "scrolled": true
   },
   "outputs": [],
   "source": [
    "import pandas as pd\n",
    "\n",
    "columns = [\n",
    "           'Task_1',\n",
    "           'Task_2',\n",
    "           'Task_2_ast',\n",
    "           'Task3',\n",
    "           'Task3_ast'\n",
    "          ]\n",
    "\n",
    "ranks = [1,2,3,2,3]\n",
    "\n",
    "pd.DataFrame({'Tasks':columns,'Result':list_of_answers,'Ranks':ranks}).set_index('Tasks').to_csv(\"DataStructures_test_task_\"+author+\".csv\")"
   ]
  },
  {
   "cell_type": "code",
   "execution_count": null,
   "metadata": {
    "nbpresent": {
     "id": "8f186849-7bf8-4548-9c2d-3f026d5c1c19"
    },
    "scrolled": true
   },
   "outputs": [],
   "source": []
  }
 ],
 "metadata": {
  "kernelspec": {
   "display_name": "Python [Root]",
   "language": "python",
   "name": "Python [Root]"
  },
  "language_info": {
   "codemirror_mode": {
    "name": "ipython",
    "version": 3
   },
   "file_extension": ".py",
   "mimetype": "text/x-python",
   "name": "python",
   "nbconvert_exporter": "python",
   "pygments_lexer": "ipython3",
   "version": "3.5.2"
  },
  "nbpresent": {
   "slides": {
    "054ac2f1-3138-4108-87b8-26264ca10054": {
     "id": "054ac2f1-3138-4108-87b8-26264ca10054",
     "prev": "7c501b56-a1c7-42d0-bb87-cfb212fd0614",
     "regions": {
      "1be41338-fd36-4ad4-a4da-33d2fb1b36f0": {
       "attrs": {
        "height": 0.8,
        "width": 0.8,
        "x": 0.1,
        "y": 0.1
       },
       "content": {
        "cell": "6ec16907-1491-413f-a763-78a15b296636",
        "part": "whole"
       },
       "id": "1be41338-fd36-4ad4-a4da-33d2fb1b36f0"
      }
     }
    },
    "103b2073-0afe-483e-9a58-3ffcf120f7ad": {
     "id": "103b2073-0afe-483e-9a58-3ffcf120f7ad",
     "prev": "a3902104-d0f7-49ca-8de1-0675e66c0315",
     "regions": {
      "d248e9f4-4766-400d-ae2a-2768a44f1835": {
       "attrs": {
        "height": 0.8,
        "width": 0.8,
        "x": 0.1,
        "y": 0.1
       },
       "content": {
        "cell": "68951ddc-0cd0-4c09-826e-f81d42334c28",
        "part": "whole"
       },
       "id": "d248e9f4-4766-400d-ae2a-2768a44f1835"
      }
     }
    },
    "1210c2f6-351b-469f-a91f-694bc34e6dc0": {
     "id": "1210c2f6-351b-469f-a91f-694bc34e6dc0",
     "prev": "1c610655-b6b6-4d04-b50d-02252e168dd7",
     "regions": {
      "2f1503cd-401f-481f-a809-6c6eccc64388": {
       "attrs": {
        "height": 0.8,
        "width": 0.8,
        "x": 0.1,
        "y": 0.1
       },
       "content": {
        "cell": "6778fea4-1869-401e-aa4a-66040b440df3",
        "part": "whole"
       },
       "id": "2f1503cd-401f-481f-a809-6c6eccc64388"
      }
     }
    },
    "1c610655-b6b6-4d04-b50d-02252e168dd7": {
     "id": "1c610655-b6b6-4d04-b50d-02252e168dd7",
     "prev": "bf2b5ec5-06e4-4b4a-abdd-f6c7d37495c4",
     "regions": {
      "ed85d3a2-f46c-4386-beb4-d057a6e7e5ad": {
       "attrs": {
        "height": 0.8,
        "width": 0.8,
        "x": 0.1,
        "y": 0.1
       },
       "content": {
        "cell": "3ca0a056-f874-458e-ab7e-f3d81ac1b3e8",
        "part": "whole"
       },
       "id": "ed85d3a2-f46c-4386-beb4-d057a6e7e5ad"
      }
     }
    },
    "24811fea-7ca2-4575-975f-9270db2ca370": {
     "id": "24811fea-7ca2-4575-975f-9270db2ca370",
     "prev": "a4c99f4e-f206-49ec-bf46-42cff2133c27",
     "regions": {
      "ab57b0f1-d058-4dfa-810f-b368349ca0bf": {
       "attrs": {
        "height": 0.8,
        "width": 0.8,
        "x": 0.1,
        "y": 0.1
       },
       "content": {
        "cell": "f01d1ac9-9c00-4365-b339-b83a9747eb71",
        "part": "whole"
       },
       "id": "ab57b0f1-d058-4dfa-810f-b368349ca0bf"
      }
     }
    },
    "300ba75c-89c8-422d-9fe5-6602960a280f": {
     "id": "300ba75c-89c8-422d-9fe5-6602960a280f",
     "prev": "8e306db1-5b57-4536-b8c6-b7d7e8b424f4",
     "regions": {
      "bc763099-a6c3-48b7-b3d4-f63a18e5d8b4": {
       "attrs": {
        "height": 0.8,
        "width": 0.8,
        "x": 0.1,
        "y": 0.1
       },
       "content": {
        "cell": "a43c865c-9a7c-4e8a-8f71-e05ba073a42a",
        "part": "whole"
       },
       "id": "bc763099-a6c3-48b7-b3d4-f63a18e5d8b4"
      }
     }
    },
    "41df4422-74d9-4654-9b78-b7675747c39b": {
     "id": "41df4422-74d9-4654-9b78-b7675747c39b",
     "prev": "816132e1-9ae8-42a4-a668-3067bbaa8b5e",
     "regions": {
      "7232404d-5a30-4a92-81c7-6a6d54a3a923": {
       "attrs": {
        "height": 0.8,
        "width": 0.8,
        "x": 0.1,
        "y": 0.1
       },
       "content": {
        "cell": "6e17509f-cb7c-429d-bed9-5cba64b07b1a",
        "part": "whole"
       },
       "id": "7232404d-5a30-4a92-81c7-6a6d54a3a923"
      }
     }
    },
    "479a3f7c-c42c-4a26-9edd-aeef00caa88a": {
     "id": "479a3f7c-c42c-4a26-9edd-aeef00caa88a",
     "prev": "506b7ee5-8b96-431e-bb72-6fad4b1f0d32",
     "regions": {
      "0e36cd1e-3450-4f9c-8760-e192e180a5e5": {
       "attrs": {
        "height": 0.8,
        "width": 0.8,
        "x": 0.1,
        "y": 0.1
       },
       "content": {
        "cell": "40237c96-0228-42ca-bd42-5a132f36dea5",
        "part": "whole"
       },
       "id": "0e36cd1e-3450-4f9c-8760-e192e180a5e5"
      }
     }
    },
    "4e8c3332-4148-4841-9aca-f2f6f72da5d9": {
     "id": "4e8c3332-4148-4841-9aca-f2f6f72da5d9",
     "prev": "68ccf21a-2835-4296-9f4e-ccbe7203e2d9",
     "regions": {
      "10d1a575-e5c8-4b8b-88f6-d9406dc2a4a8": {
       "attrs": {
        "height": 0.8,
        "width": 0.8,
        "x": 0.1,
        "y": 0.1
       },
       "content": {
        "cell": "4879437c-5486-4934-9882-1dfe8c3d22ee",
        "part": "whole"
       },
       "id": "10d1a575-e5c8-4b8b-88f6-d9406dc2a4a8"
      }
     }
    },
    "506b7ee5-8b96-431e-bb72-6fad4b1f0d32": {
     "id": "506b7ee5-8b96-431e-bb72-6fad4b1f0d32",
     "prev": "9e16a3b2-1f8d-4b87-96fb-0cf689d3d564",
     "regions": {
      "4ccb11ff-1692-42c9-9f03-567d4a3efce0": {
       "attrs": {
        "height": 0.8,
        "width": 0.8,
        "x": 0.1,
        "y": 0.1
       },
       "content": {
        "cell": "d0f04c7c-d16a-4aec-bf1f-d48e14bea290",
        "part": "whole"
       },
       "id": "4ccb11ff-1692-42c9-9f03-567d4a3efce0"
      }
     }
    },
    "643a109e-5cd7-47dc-a30b-5fc59f353bfc": {
     "id": "643a109e-5cd7-47dc-a30b-5fc59f353bfc",
     "prev": "717271dc-c814-4fba-9dbb-e96d3644c87f",
     "regions": {
      "355034ae-efaf-4066-ad78-9f52aa346928": {
       "attrs": {
        "height": 0.8,
        "width": 0.8,
        "x": 0.1,
        "y": 0.1
       },
       "content": {
        "cell": "27a13cee-a92d-4819-8e21-18596781caac",
        "part": "whole"
       },
       "id": "355034ae-efaf-4066-ad78-9f52aa346928"
      }
     }
    },
    "64cbe80d-b53a-4bcf-a59a-0b6e6fd95444": {
     "id": "64cbe80d-b53a-4bcf-a59a-0b6e6fd95444",
     "prev": "6e5a60ff-bfec-4ec9-ad59-0d72621c90b2",
     "regions": {
      "405cc06c-e84e-477d-aba3-2bede50aced4": {
       "attrs": {
        "height": 0.8,
        "width": 0.8,
        "x": 0.1,
        "y": 0.1
       },
       "content": {
        "cell": "131e9912-93f6-494f-8b1e-80fb1aeecd7a",
        "part": "whole"
       },
       "id": "405cc06c-e84e-477d-aba3-2bede50aced4"
      }
     }
    },
    "66281fd3-296a-431a-bed4-8ceeae6c19a4": {
     "id": "66281fd3-296a-431a-bed4-8ceeae6c19a4",
     "prev": "b2186850-e145-4385-a19f-e546e0b142ed",
     "regions": {
      "28085011-dca6-4ea4-8f81-d73cd51a58da": {
       "attrs": {
        "height": 0.8,
        "width": 0.8,
        "x": 0.1,
        "y": 0.1
       },
       "content": {
        "cell": "53877c47-3079-44d4-8177-47e1d46599c4",
        "part": "whole"
       },
       "id": "28085011-dca6-4ea4-8f81-d73cd51a58da"
      }
     }
    },
    "68ccf21a-2835-4296-9f4e-ccbe7203e2d9": {
     "id": "68ccf21a-2835-4296-9f4e-ccbe7203e2d9",
     "prev": "af49cce6-70fa-4eda-ba26-00bb8776ed75",
     "regions": {
      "bdd26b1a-70e3-4474-8c89-45dabe363167": {
       "attrs": {
        "height": 0.8,
        "width": 0.8,
        "x": 0.1,
        "y": 0.1
       },
       "content": {
        "cell": "04414b27-9cf0-47f2-a322-72db56f5dbad",
        "part": "whole"
       },
       "id": "bdd26b1a-70e3-4474-8c89-45dabe363167"
      }
     }
    },
    "6e5a60ff-bfec-4ec9-ad59-0d72621c90b2": {
     "id": "6e5a60ff-bfec-4ec9-ad59-0d72621c90b2",
     "prev": "d9658c8a-fc3b-47fc-ab97-d4d6fae462c5",
     "regions": {
      "1cf741d4-aac4-4aa7-add3-d48f536f9998": {
       "attrs": {
        "height": 0.8,
        "width": 0.8,
        "x": 0.1,
        "y": 0.1
       },
       "content": {
        "cell": "a3be4bc6-d214-451c-9c2e-c2d5e59600a1",
        "part": "whole"
       },
       "id": "1cf741d4-aac4-4aa7-add3-d48f536f9998"
      }
     }
    },
    "6fffc1c2-ec08-4d01-8bff-3cd6a135a870": {
     "id": "6fffc1c2-ec08-4d01-8bff-3cd6a135a870",
     "prev": "1210c2f6-351b-469f-a91f-694bc34e6dc0",
     "regions": {
      "0b079164-0bba-4137-bb72-80faa3c0b52c": {
       "attrs": {
        "height": 0.8,
        "width": 0.8,
        "x": 0.1,
        "y": 0.1
       },
       "content": {
        "cell": "07f8bd94-44f1-4d7c-802a-5cd458740353",
        "part": "whole"
       },
       "id": "0b079164-0bba-4137-bb72-80faa3c0b52c"
      }
     }
    },
    "717271dc-c814-4fba-9dbb-e96d3644c87f": {
     "id": "717271dc-c814-4fba-9dbb-e96d3644c87f",
     "prev": "054ac2f1-3138-4108-87b8-26264ca10054",
     "regions": {
      "d94145c4-bd89-4c80-988e-28e85393d9b6": {
       "attrs": {
        "height": 0.8,
        "width": 0.8,
        "x": 0.1,
        "y": 0.1
       },
       "content": {
        "cell": "d94ff6e8-5aa9-454a-b862-4d9e6c64e383",
        "part": "whole"
       },
       "id": "d94145c4-bd89-4c80-988e-28e85393d9b6"
      }
     }
    },
    "7757c24a-c37d-478a-9aea-c9fcc1f49082": {
     "id": "7757c24a-c37d-478a-9aea-c9fcc1f49082",
     "prev": "64cbe80d-b53a-4bcf-a59a-0b6e6fd95444",
     "regions": {
      "daa4b8d6-5a2f-47fc-b935-8f6c62bbc444": {
       "attrs": {
        "height": 0.8,
        "width": 0.8,
        "x": 0.1,
        "y": 0.1
       },
       "content": {
        "cell": "681fc9e0-d88d-4f9a-9fe6-05e5ac276d3a",
        "part": "whole"
       },
       "id": "daa4b8d6-5a2f-47fc-b935-8f6c62bbc444"
      }
     }
    },
    "7c501b56-a1c7-42d0-bb87-cfb212fd0614": {
     "id": "7c501b56-a1c7-42d0-bb87-cfb212fd0614",
     "prev": "bb0c2275-e2f8-4919-b9c7-064b844dd3df",
     "regions": {
      "a61d18e4-34df-49a3-a73a-77c7843a3eea": {
       "attrs": {
        "height": 0.8,
        "width": 0.8,
        "x": 0.1,
        "y": 0.1
       },
       "content": {
        "cell": "197f76e8-d6f5-42e8-b29a-6c41097fcf35",
        "part": "whole"
       },
       "id": "a61d18e4-34df-49a3-a73a-77c7843a3eea"
      }
     }
    },
    "816132e1-9ae8-42a4-a668-3067bbaa8b5e": {
     "id": "816132e1-9ae8-42a4-a668-3067bbaa8b5e",
     "prev": "479a3f7c-c42c-4a26-9edd-aeef00caa88a",
     "regions": {
      "dc195db2-9d7a-4233-9163-611dc6f92a63": {
       "attrs": {
        "height": 0.8,
        "width": 0.8,
        "x": 0.1,
        "y": 0.1
       },
       "content": {
        "cell": "4b79fbdf-71d7-49db-9d5b-1b1528011d5a",
        "part": "whole"
       },
       "id": "dc195db2-9d7a-4233-9163-611dc6f92a63"
      }
     }
    },
    "8e306db1-5b57-4536-b8c6-b7d7e8b424f4": {
     "id": "8e306db1-5b57-4536-b8c6-b7d7e8b424f4",
     "prev": "b4c6a64a-6ff7-449d-80e6-18308493f3ca",
     "regions": {
      "543626cb-ea5e-49d6-8435-d6a9fc0607f8": {
       "attrs": {
        "height": 0.8,
        "width": 0.8,
        "x": 0.1,
        "y": 0.1
       },
       "content": {
        "cell": "3ffce024-d6c1-4603-bda8-79fb8b26401e",
        "part": "whole"
       },
       "id": "543626cb-ea5e-49d6-8435-d6a9fc0607f8"
      }
     }
    },
    "9109a171-3f84-460f-8a5c-fd3ce9b4ab06": {
     "id": "9109a171-3f84-460f-8a5c-fd3ce9b4ab06",
     "prev": "e9132186-b5fc-4e03-b0de-13053dd33374",
     "regions": {
      "3cd45627-a09d-46f1-b15f-8f10f75762b9": {
       "attrs": {
        "height": 0.8,
        "width": 0.8,
        "x": 0.1,
        "y": 0.1
       },
       "content": {
        "cell": "8f186849-7bf8-4548-9c2d-3f026d5c1c19",
        "part": "whole"
       },
       "id": "3cd45627-a09d-46f1-b15f-8f10f75762b9"
      }
     }
    },
    "9e16a3b2-1f8d-4b87-96fb-0cf689d3d564": {
     "id": "9e16a3b2-1f8d-4b87-96fb-0cf689d3d564",
     "prev": "fa334627-a575-447e-91c0-367b91d10c36",
     "regions": {
      "6a2cb239-f2cf-4f64-a99e-14590a8614e1": {
       "attrs": {
        "height": 0.8,
        "width": 0.8,
        "x": 0.1,
        "y": 0.1
       },
       "content": {
        "cell": "d124b7c6-535a-4455-a95a-25f6df8db2dd",
        "part": "whole"
       },
       "id": "6a2cb239-f2cf-4f64-a99e-14590a8614e1"
      }
     }
    },
    "a3902104-d0f7-49ca-8de1-0675e66c0315": {
     "id": "a3902104-d0f7-49ca-8de1-0675e66c0315",
     "prev": "7757c24a-c37d-478a-9aea-c9fcc1f49082",
     "regions": {
      "75054dba-7907-4ea5-8c9e-cbbbb0037c7d": {
       "attrs": {
        "height": 0.8,
        "width": 0.8,
        "x": 0.1,
        "y": 0.1
       },
       "content": {
        "cell": "4efc3913-0765-4976-80a4-d9eff884842b",
        "part": "whole"
       },
       "id": "75054dba-7907-4ea5-8c9e-cbbbb0037c7d"
      }
     }
    },
    "a4c99f4e-f206-49ec-bf46-42cff2133c27": {
     "id": "a4c99f4e-f206-49ec-bf46-42cff2133c27",
     "prev": "300ba75c-89c8-422d-9fe5-6602960a280f",
     "regions": {
      "c668e28f-daab-461d-9c3c-5d41a9d2fd81": {
       "attrs": {
        "height": 0.8,
        "width": 0.8,
        "x": 0.1,
        "y": 0.1
       },
       "content": {
        "cell": "f509ef30-bc46-4e28-bc98-f3a042c2e0b9",
        "part": "whole"
       },
       "id": "c668e28f-daab-461d-9c3c-5d41a9d2fd81"
      }
     }
    },
    "af49cce6-70fa-4eda-ba26-00bb8776ed75": {
     "id": "af49cce6-70fa-4eda-ba26-00bb8776ed75",
     "prev": "cc734474-cf8a-49d4-b5ad-950bb854a78e",
     "regions": {
      "0576f8e8-34a8-445c-b724-3df9c94e4502": {
       "attrs": {
        "height": 0.8,
        "width": 0.8,
        "x": 0.1,
        "y": 0.1
       },
       "content": {
        "cell": "89d03a7c-6fb5-4203-9529-0c1b37b1f85e",
        "part": "whole"
       },
       "id": "0576f8e8-34a8-445c-b724-3df9c94e4502"
      }
     }
    },
    "b2186850-e145-4385-a19f-e546e0b142ed": {
     "id": "b2186850-e145-4385-a19f-e546e0b142ed",
     "prev": null,
     "regions": {
      "9ef69f0d-ca4c-4c50-97e7-91c73581e3a4": {
       "attrs": {
        "height": 0.8,
        "width": 0.8,
        "x": 0.1,
        "y": 0.1
       },
       "content": {
        "cell": "d7c14948-ae00-42c1-af04-4199336e82b7",
        "part": "whole"
       },
       "id": "9ef69f0d-ca4c-4c50-97e7-91c73581e3a4"
      }
     }
    },
    "b4c6a64a-6ff7-449d-80e6-18308493f3ca": {
     "id": "b4c6a64a-6ff7-449d-80e6-18308493f3ca",
     "prev": "103b2073-0afe-483e-9a58-3ffcf120f7ad",
     "regions": {
      "68333d43-299e-4fb7-b183-3ad4610bf7fc": {
       "attrs": {
        "height": 0.8,
        "width": 0.8,
        "x": 0.1,
        "y": 0.1
       },
       "content": {
        "cell": "3c486ad8-220c-4646-b924-216e5a0668bd",
        "part": "whole"
       },
       "id": "68333d43-299e-4fb7-b183-3ad4610bf7fc"
      }
     }
    },
    "b68c4a87-5356-47ed-a950-5824b2811adf": {
     "id": "b68c4a87-5356-47ed-a950-5824b2811adf",
     "prev": "6fffc1c2-ec08-4d01-8bff-3cd6a135a870",
     "regions": {
      "a36f5c75-c83f-4333-bd8c-2f14d138b8ce": {
       "attrs": {
        "height": 0.8,
        "width": 0.8,
        "x": 0.1,
        "y": 0.1
       },
       "content": {
        "cell": "a59c1fd0-8e9b-4270-afcf-33531bab51a1",
        "part": "whole"
       },
       "id": "a36f5c75-c83f-4333-bd8c-2f14d138b8ce"
      }
     }
    },
    "bb0c2275-e2f8-4919-b9c7-064b844dd3df": {
     "id": "bb0c2275-e2f8-4919-b9c7-064b844dd3df",
     "prev": "b68c4a87-5356-47ed-a950-5824b2811adf",
     "regions": {
      "c5ecdedf-9633-415b-898f-921b48593e27": {
       "attrs": {
        "height": 0.8,
        "width": 0.8,
        "x": 0.1,
        "y": 0.1
       },
       "content": {
        "cell": "903b40a2-e6e8-4813-842f-957bcaf9468f",
        "part": "whole"
       },
       "id": "c5ecdedf-9633-415b-898f-921b48593e27"
      }
     }
    },
    "bf2b5ec5-06e4-4b4a-abdd-f6c7d37495c4": {
     "id": "bf2b5ec5-06e4-4b4a-abdd-f6c7d37495c4",
     "prev": "c4aa0bbd-9ce5-45a5-88fd-cfaff5e2be7d",
     "regions": {
      "bb696a48-a80d-4bc7-baf9-9d1571180d62": {
       "attrs": {
        "height": 0.8,
        "width": 0.8,
        "x": 0.1,
        "y": 0.1
       },
       "content": {
        "cell": "e8bcde2b-c9c5-41c4-80a5-33b6b97448cf",
        "part": "whole"
       },
       "id": "bb696a48-a80d-4bc7-baf9-9d1571180d62"
      }
     }
    },
    "c4aa0bbd-9ce5-45a5-88fd-cfaff5e2be7d": {
     "id": "c4aa0bbd-9ce5-45a5-88fd-cfaff5e2be7d",
     "prev": "d6e10faa-a198-4acd-8d75-49d0f35c2589",
     "regions": {
      "5edea0ca-5273-4c40-990b-3e76726c70b5": {
       "attrs": {
        "height": 0.8,
        "width": 0.8,
        "x": 0.1,
        "y": 0.1
       },
       "content": {
        "cell": "9ae2cd6f-d923-464b-bebf-b559870f39ed",
        "part": "whole"
       },
       "id": "5edea0ca-5273-4c40-990b-3e76726c70b5"
      }
     }
    },
    "cc734474-cf8a-49d4-b5ad-950bb854a78e": {
     "id": "cc734474-cf8a-49d4-b5ad-950bb854a78e",
     "prev": "d32e7550-ea3d-48fc-a581-fe8207377c43",
     "regions": {
      "bac1b412-4d51-4306-8442-c8103becf5b7": {
       "attrs": {
        "height": 0.8,
        "width": 0.8,
        "x": 0.1,
        "y": 0.1
       },
       "content": {
        "cell": "966e63c1-04a4-4f1d-9811-49832319de4b",
        "part": "whole"
       },
       "id": "bac1b412-4d51-4306-8442-c8103becf5b7"
      }
     }
    },
    "d32e7550-ea3d-48fc-a581-fe8207377c43": {
     "id": "d32e7550-ea3d-48fc-a581-fe8207377c43",
     "prev": "db689c1b-5f00-4bc6-8433-9e6414be2ceb",
     "regions": {
      "19908f88-d25c-4d1d-93c0-f51a5db6c067": {
       "attrs": {
        "height": 0.8,
        "width": 0.8,
        "x": 0.1,
        "y": 0.1
       },
       "content": {
        "cell": "c657861e-6994-48d7-a9f8-03143cab32b2",
        "part": "whole"
       },
       "id": "19908f88-d25c-4d1d-93c0-f51a5db6c067"
      }
     }
    },
    "d6e10faa-a198-4acd-8d75-49d0f35c2589": {
     "id": "d6e10faa-a198-4acd-8d75-49d0f35c2589",
     "prev": "4e8c3332-4148-4841-9aca-f2f6f72da5d9",
     "regions": {
      "23fecef9-1965-47d5-9f66-8f3904b2fa90": {
       "attrs": {
        "height": 0.8,
        "width": 0.8,
        "x": 0.1,
        "y": 0.1
       },
       "content": {
        "cell": "ce7031fb-91c1-4ef5-acf3-21a8ae0761fc",
        "part": "whole"
       },
       "id": "23fecef9-1965-47d5-9f66-8f3904b2fa90"
      }
     }
    },
    "d9658c8a-fc3b-47fc-ab97-d4d6fae462c5": {
     "id": "d9658c8a-fc3b-47fc-ab97-d4d6fae462c5",
     "prev": "643a109e-5cd7-47dc-a30b-5fc59f353bfc",
     "regions": {
      "6fb10271-1069-4530-bb4a-5a8cb8fa4661": {
       "attrs": {
        "height": 0.8,
        "width": 0.8,
        "x": 0.1,
        "y": 0.1
       },
       "content": {
        "cell": "8ecc96db-dac0-475c-b785-d070846589e2",
        "part": "whole"
       },
       "id": "6fb10271-1069-4530-bb4a-5a8cb8fa4661"
      }
     }
    },
    "db689c1b-5f00-4bc6-8433-9e6414be2ceb": {
     "id": "db689c1b-5f00-4bc6-8433-9e6414be2ceb",
     "prev": "66281fd3-296a-431a-bed4-8ceeae6c19a4",
     "regions": {
      "94b15fd4-65c9-490d-80ba-eda43ef46a68": {
       "attrs": {
        "height": 0.8,
        "width": 0.8,
        "x": 0.1,
        "y": 0.1
       },
       "content": {
        "cell": "de41042d-d56a-4dc3-99b0-f2f2f3362b16",
        "part": "whole"
       },
       "id": "94b15fd4-65c9-490d-80ba-eda43ef46a68"
      }
     }
    },
    "e9132186-b5fc-4e03-b0de-13053dd33374": {
     "id": "e9132186-b5fc-4e03-b0de-13053dd33374",
     "prev": "41df4422-74d9-4654-9b78-b7675747c39b",
     "regions": {
      "1af14bff-8252-4e23-b908-78b28a9bbf7c": {
       "attrs": {
        "height": 0.8,
        "width": 0.8,
        "x": 0.1,
        "y": 0.1
       },
       "content": {
        "cell": "23d38148-0e2f-4acc-9eb7-c8956d47cf34",
        "part": "whole"
       },
       "id": "1af14bff-8252-4e23-b908-78b28a9bbf7c"
      }
     }
    },
    "fa334627-a575-447e-91c0-367b91d10c36": {
     "id": "fa334627-a575-447e-91c0-367b91d10c36",
     "prev": "24811fea-7ca2-4575-975f-9270db2ca370",
     "regions": {
      "6fa90503-0ea6-4d86-9db0-4162f41c2fdf": {
       "attrs": {
        "height": 0.8,
        "width": 0.8,
        "x": 0.1,
        "y": 0.1
       },
       "content": {
        "cell": "9f23bd1a-d49b-42eb-a4ab-782ccbd55359",
        "part": "whole"
       },
       "id": "6fa90503-0ea6-4d86-9db0-4162f41c2fdf"
      }
     }
    }
   },
   "themes": {
    "default": "f6b81d6b-5c86-42c6-b9a3-126d147af736",
    "theme": {
     "1545dc95-52ec-48c5-bdaf-cacc33448a63": {
      "backgrounds": {
       "backgroundColor": {
        "background-color": "backgroundColor",
        "id": "backgroundColor"
       }
      },
      "id": "1545dc95-52ec-48c5-bdaf-cacc33448a63",
      "palette": {
       "backgroundColor": {
        "id": "backgroundColor",
        "rgb": [
         34,
         34,
         34
        ]
       },
       "headingColor": {
        "id": "headingColor",
        "rgb": [
         256,
         256,
         256
        ]
       },
       "linkColor": {
        "id": "linkColor",
        "rgb": [
         66,
         175,
         250
        ]
       },
       "mainColor": {
        "id": "mainColor",
        "rgb": [
         256,
         256,
         256
        ]
       }
      },
      "rules": {
       "a": {
        "color": "linkColor"
       },
       "h1": {
        "color": "headingColor",
        "font-family": "Source Sans Pro",
        "font-size": 5.25
       },
       "h2": {
        "color": "headingColor",
        "font-family": "Source Sans Pro",
        "font-size": 4
       },
       "h3": {
        "color": "headingColor",
        "font-family": "Source Sans Pro",
        "font-size": 3.5
       },
       "h4": {
        "color": "headingColor",
        "font-family": "Source Sans Pro",
        "font-size": 3
       },
       "h5": {
        "color": "headingColor",
        "font-family": "Source Sans Pro"
       },
       "h6": {
        "color": "headingColor",
        "font-family": "Source Sans Pro"
       },
       "h7": {
        "color": "headingColor",
        "font-family": "Source Sans Pro"
       },
       "li": {
        "color": "mainColor",
        "font-family": "Source Sans Pro",
        "font-size": 6
       },
       "p": {
        "color": "mainColor",
        "font-family": "Source Sans Pro",
        "font-size": 6
       }
      },
      "text-base": {
       "color": "mainColor",
       "font-family": "Source Sans Pro",
       "font-size": 6
      }
     },
     "1a2e5192-9346-4326-9168-fffbd279d8fe": {
      "backgrounds": {
       "backgroundColor": {
        "background-color": "backgroundColor",
        "id": "backgroundColor"
       }
      },
      "id": "1a2e5192-9346-4326-9168-fffbd279d8fe",
      "palette": {
       "backgroundColor": {
        "id": "backgroundColor",
        "rgb": [
         34,
         34,
         34
        ]
       },
       "headingColor": {
        "id": "headingColor",
        "rgb": [
         256,
         256,
         256
        ]
       },
       "linkColor": {
        "id": "linkColor",
        "rgb": [
         66,
         175,
         250
        ]
       },
       "mainColor": {
        "id": "mainColor",
        "rgb": [
         256,
         256,
         256
        ]
       }
      },
      "rules": {
       "a": {
        "color": "linkColor"
       },
       "h1": {
        "color": "headingColor",
        "font-family": "Source Sans Pro",
        "font-size": 5.25
       },
       "h2": {
        "color": "headingColor",
        "font-family": "Source Sans Pro",
        "font-size": 4
       },
       "h3": {
        "color": "headingColor",
        "font-family": "Source Sans Pro",
        "font-size": 3.5
       },
       "h4": {
        "color": "headingColor",
        "font-family": "Source Sans Pro",
        "font-size": 3
       },
       "h5": {
        "color": "headingColor",
        "font-family": "Source Sans Pro"
       },
       "h6": {
        "color": "headingColor",
        "font-family": "Source Sans Pro"
       },
       "h7": {
        "color": "headingColor",
        "font-family": "Source Sans Pro"
       },
       "li": {
        "color": "mainColor",
        "font-family": "Source Sans Pro",
        "font-size": 6
       },
       "p": {
        "color": "mainColor",
        "font-family": "Source Sans Pro",
        "font-size": 6
       }
      },
      "text-base": {
       "color": "mainColor",
       "font-family": "Source Sans Pro",
       "font-size": 6
      }
     },
     "4b6cb56e-916f-4987-9fd3-1db3971871dd": {
      "backgrounds": {
       "backgroundColor": {
        "background-color": "backgroundColor",
        "id": "backgroundColor"
       }
      },
      "id": "4b6cb56e-916f-4987-9fd3-1db3971871dd",
      "palette": {
       "backgroundColor": {
        "id": "backgroundColor",
        "rgb": [
         256,
         256,
         256
        ]
       },
       "headingColor": {
        "id": "headingColor",
        "rgb": [
         0,
         0,
         0
        ]
       },
       "linkColor": {
        "id": "linkColor",
        "rgb": [
         0,
         0,
         139
        ]
       },
       "mainColor": {
        "id": "mainColor",
        "rgb": [
         0,
         0,
         0
        ]
       }
      },
      "rules": {
       "a": {
        "color": "linkColor"
       },
       "h1": {
        "color": "headingColor",
        "font-family": "News Cycle",
        "font-size": 7
       },
       "h2": {
        "color": "headingColor",
        "font-family": "News Cycle",
        "font-size": 5
       },
       "h3": {
        "color": "headingColor",
        "font-family": "News Cycle",
        "font-size": 3.75
       },
       "h4": {
        "color": "headingColor",
        "font-family": "News Cycle",
        "font-size": 3
       },
       "h5": {
        "color": "headingColor",
        "font-family": "News Cycle"
       },
       "h6": {
        "color": "headingColor",
        "font-family": "News Cycle"
       },
       "h7": {
        "color": "headingColor",
        "font-family": "News Cycle"
       },
       "li": {
        "color": "mainColor",
        "font-family": "Lato",
        "font-size": 5
       },
       "p": {
        "color": "mainColor",
        "font-family": "Lato",
        "font-size": 5
       }
      },
      "text-base": {
       "color": "mainColor",
       "font-family": "Lato",
       "font-size": 5
      }
     },
     "a4c635bc-d9b5-4abf-8bd7-1da0d9340c37": {
      "backgrounds": {
       "backgroundColor": {
        "background-color": "backgroundColor",
        "id": "backgroundColor"
       }
      },
      "id": "a4c635bc-d9b5-4abf-8bd7-1da0d9340c37",
      "palette": {
       "backgroundColor": {
        "id": "backgroundColor",
        "rgb": [
         256,
         256,
         256
        ]
       },
       "headingColor": {
        "id": "headingColor",
        "rgb": [
         0,
         0,
         0
        ]
       },
       "linkColor": {
        "id": "linkColor",
        "rgb": [
         0,
         0,
         139
        ]
       },
       "mainColor": {
        "id": "mainColor",
        "rgb": [
         0,
         0,
         0
        ]
       }
      },
      "rules": {
       "a": {
        "color": "linkColor"
       },
       "h1": {
        "color": "headingColor",
        "font-family": "News Cycle",
        "font-size": 7
       },
       "h2": {
        "color": "headingColor",
        "font-family": "News Cycle",
        "font-size": 5
       },
       "h3": {
        "color": "headingColor",
        "font-family": "News Cycle",
        "font-size": 3.75
       },
       "h4": {
        "color": "headingColor",
        "font-family": "News Cycle",
        "font-size": 3
       },
       "h5": {
        "color": "headingColor",
        "font-family": "News Cycle"
       },
       "h6": {
        "color": "headingColor",
        "font-family": "News Cycle"
       },
       "h7": {
        "color": "headingColor",
        "font-family": "News Cycle"
       },
       "li": {
        "color": "mainColor",
        "font-family": "Lato",
        "font-size": 5
       },
       "p": {
        "color": "mainColor",
        "font-family": "Lato",
        "font-size": 5
       }
      },
      "text-base": {
       "color": "mainColor",
       "font-family": "Lato",
       "font-size": 5
      }
     },
     "f6b81d6b-5c86-42c6-b9a3-126d147af736": {
      "backgrounds": {
       "backgroundColor": {
        "background-color": "backgroundColor",
        "id": "backgroundColor"
       }
      },
      "id": "f6b81d6b-5c86-42c6-b9a3-126d147af736",
      "palette": {
       "backgroundColor": {
        "id": "backgroundColor",
        "rgb": [
         34,
         34,
         34
        ]
       },
       "headingColor": {
        "id": "headingColor",
        "rgb": [
         238,
         238,
         238
        ]
       },
       "linkColor": {
        "id": "linkColor",
        "rgb": [
         170,
         34,
         51
        ]
       },
       "mainColor": {
        "id": "mainColor",
        "rgb": [
         238,
         238,
         238
        ]
       }
      },
      "rules": {
       "a": {
        "color": "linkColor"
       },
       "h1": {
        "color": "headingColor",
        "font-family": "Ubuntu",
        "font-size": 7
       },
       "h2": {
        "color": "headingColor",
        "font-family": "Ubuntu",
        "font-size": 5
       },
       "h3": {
        "color": "headingColor",
        "font-family": "Ubuntu",
        "font-size": 3.75
       },
       "h4": {
        "color": "headingColor",
        "font-family": "Ubuntu",
        "font-size": 3
       },
       "h5": {
        "color": "headingColor",
        "font-family": "Ubuntu"
       },
       "h6": {
        "color": "headingColor",
        "font-family": "Ubuntu"
       },
       "h7": {
        "color": "headingColor",
        "font-family": "Ubuntu"
       },
       "li": {
        "color": "mainColor",
        "font-family": "Ubuntu",
        "font-size": 5
       },
       "p": {
        "color": "mainColor",
        "font-family": "Ubuntu",
        "font-size": 5
       }
      },
      "text-base": {
       "color": "mainColor",
       "font-family": "Ubuntu",
       "font-size": 5
      }
     }
    }
   }
  }
 },
 "nbformat": 4,
 "nbformat_minor": 2
}
